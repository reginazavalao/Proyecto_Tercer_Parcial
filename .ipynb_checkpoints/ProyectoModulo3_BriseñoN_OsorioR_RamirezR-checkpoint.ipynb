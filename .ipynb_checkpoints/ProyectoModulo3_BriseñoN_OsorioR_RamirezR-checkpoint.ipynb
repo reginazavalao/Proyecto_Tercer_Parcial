{
 "cells": [
  {
   "cell_type": "markdown",
   "metadata": {},
   "source": [
    "# Crecimiento de la población en Jalisco\n",
    "***"
   ]
  },
  {
   "cell_type": "markdown",
   "metadata": {},
<<<<<<< Updated upstream
   "source": []
  },
  {
   "cell_type": "markdown",
   "metadata": {},
   "source": [
    "## Objetivos específicos\n",
    "***"
   ]
  },
  {
   "cell_type": "markdown",
   "metadata": {},
   "source": [
    "## Modelo \n",
=======
   "source": [
    "## Objetivo\n",
>>>>>>> Stashed changes
    "***"
   ]
  },
  {
   "cell_type": "markdown",
   "metadata": {},
   "source": [
<<<<<<< Updated upstream
    "## Solución\n",
=======
    "## Modelo del problema\n",
>>>>>>> Stashed changes
    "***"
   ]
  },
  {
   "cell_type": "markdown",
   "metadata": {},
   "source": [
<<<<<<< Updated upstream
    "## Visualización de la solución\n",
=======
    "## Simulación de resultados\n",
>>>>>>> Stashed changes
    "***"
   ]
  },
  {
   "cell_type": "markdown",
   "metadata": {},
   "source": [
<<<<<<< Updated upstream
    "## Conclusiones\n",
    "***"
   ]
  },
  {
   "cell_type": "markdown",
   "metadata": {},
   "source": [
    "## Referencias\n",
    "***"
   ]
  },
  {
   "cell_type": "code",
   "execution_count": null,
   "metadata": {},
   "outputs": [],
   "source": []
=======
    "## "
   ]
>>>>>>> Stashed changes
  }
 ],
 "metadata": {
  "kernelspec": {
   "display_name": "Python 3",
   "language": "python",
   "name": "python3"
  },
  "language_info": {
   "codemirror_mode": {
    "name": "ipython",
    "version": 3
   },
   "file_extension": ".py",
   "mimetype": "text/x-python",
   "name": "python",
   "nbconvert_exporter": "python",
   "pygments_lexer": "ipython3",
   "version": "3.8.3"
  }
 },
 "nbformat": 4,
 "nbformat_minor": 2
}
